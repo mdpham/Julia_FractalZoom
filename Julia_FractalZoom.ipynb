{
 "cells": [
  {
   "cell_type": "code",
   "execution_count": null,
   "metadata": {
    "collapsed": false,
    "scrolled": true
   },
   "outputs": [],
   "source": [
    "# Make video (s=1024) at 2 framerate:\n",
    "#   ffmpeg -f image2 -framerate 2 -i %06d.jpg -s 1024x1024 ./test.avi\n",
    "\n",
    "# GENERATE JULIA SET IMAGES\n",
    "using Images\n",
    "\n",
    "mutable struct FractalZoomFrame\n",
    "c::Array{Complex}\n",
    "z::Array{Complex}\n",
    "histogram::Array{Int}\n",
    "end\n",
    "\n",
    "function init_FractalZoomFrame(center::Complex,r_length::Real,i_length::Real)\n",
    "    c = complexplane(center,r_length,i_length)\n",
    "    return FractalZoomFrame(c, zeros(Complex,size(c)), zeros(Int,size(c)))\n",
    "end\n",
    "\n",
    "function complexpolynomial!(fzf::FractalZoomFrame)\n",
    "    n = 3\n",
    "    for i in eachindex(fzf.z)\n",
    "        if abs(fzf.z[i])^2 >3 2\n",
    "            continue\n",
    "        else\n",
    "            fzf.z[i] = fzf.z[i]^n + fzf.c[i]\n",
    "            if abs(fzf.z[i]) < 2\n",
    "                fzf.histogram[i] += 1\n",
    "            end\n",
    "        end\n",
    "    end\n",
    "end\n",
    "\n",
    "# center: center point of complex plane\n",
    "# r_length: length in real direction\n",
    "# i_length: length in imaginary direction\n",
    "function complexplane(center::Complex,r_length::Real,i_length::Real)\n",
    "    pix_height = 1080\n",
    "    pix_width = 1920\n",
    "    z = zeros(Complex,pix_height,pix_width)\n",
    "    #real and complex part of center point\n",
    "    r = real(center)\n",
    "    i = imag(center)\n",
    "    re = linspace(r-0.5r_length,r+0.5r_length,pix_width)\n",
    "    com = linspace(i-0.5i_length,i+0.5i_length,pix_height)\n",
    "    for x = 1:length(re)\n",
    "        for y = 1:length(com)\n",
    "            z[y,x] = re[x] + com[y]im\n",
    "        end\n",
    "    end\n",
    "    return z\n",
    "end\n",
    "\n",
    "\n",
    "function printframe(fzf::FractalZoomFrame)\n",
    "    palette = rand(RGB,500,1)\n",
    "    img = colorview(RGB,zeros(N0f8,3,size(fzf.c)...))\n",
    "    indices = eachindex(fzf.histogram)\n",
    "    img[indices] = palette[fzf.histogram[indices] .% 500 .+ 1]\n",
    "    return img\n",
    "end\n",
    "\n",
    "\n",
    "function renderframe(center::Complex,r_length::Real,i_length::Real)\n",
    "    a = init_FractalZoomFrame(center,r_length,i_length)\n",
    "#     display(a.z)\n",
    "    for t = 1:2\n",
    "        display(t)\n",
    "        complexpolynomial!(a)\n",
    "    end\n",
    "#     display(a.z)\n",
    "#     display(a.histogram)  \n",
    "    \n",
    "    # smooth coloring\n",
    "    \n",
    "    return printframe(a)\n",
    "end\n",
    "\n",
    "@time renderframe(0+0im,4.,4.)"
   ]
  },
  {
   "cell_type": "code",
   "execution_count": null,
   "metadata": {
    "collapsed": false
   },
   "outputs": [],
   "source": [
    "a = ans"
   ]
  },
  {
   "cell_type": "code",
   "execution_count": null,
   "metadata": {
    "collapsed": false
   },
   "outputs": [],
   "source": [
    "save(\"test.png\",a)"
   ]
  },
  {
   "cell_type": "code",
   "execution_count": null,
   "metadata": {
    "collapsed": true
   },
   "outputs": [],
   "source": []
  }
 ],
 "metadata": {
  "kernelspec": {
   "display_name": "Julia 0.6.2",
   "language": "julia",
   "name": "julia-0.6"
  },
  "language_info": {
   "file_extension": ".jl",
   "mimetype": "application/julia",
   "name": "julia",
   "version": "0.6.2"
  }
 },
 "nbformat": 4,
 "nbformat_minor": 1
}
